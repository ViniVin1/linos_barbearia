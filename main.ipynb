{
 "cells": [
  {
   "cell_type": "code",
   "execution_count": 7,
   "metadata": {},
   "outputs": [],
   "source": [
    "import mysql.connector as sql\n",
    "import pandas as pd\n",
    "import tkinter as tk\n",
    "from tkinter import messagebox\n",
    "from tqdm import tqdm   "
   ]
  },
  {
   "cell_type": "code",
   "execution_count": 3,
   "metadata": {},
   "outputs": [],
   "source": [
    "# Cria a conexão com o banco\n",
    "def conexao():\n",
    "    conn = sql.connect(host = 'localhost', user = 'root', passwd = '152245Aa@', database = 'linos')\n",
    "    if conn == False:\n",
    "        print('Conexão mal sucedida!')\n",
    "    return conn\n",
    "\n",
    "# Inicializa a conexão\n",
    "conn = conexao()\n",
    "\n",
    "# Executa um comando no banco\n",
    "def query(comando, conexao = conn):\n",
    "    cursor = conexao.cursor()\n",
    "    cursor.execute(comando)\n",
    "    conexao.commit()\n",
    "    return cursor\n",
    "\n",
    "def cadastrar_cliente(nome_cliente, tel_cliente, data_nasc_cliente):\n",
    "    query(f\"\"\"INSERT INTO clientes VALUES (null, '{nome_cliente}', '{tel_cliente}', '{data_nasc_cliente}')\"\"\")\n",
    "\n",
    "def nova_venda(id_cliente, tel_cliente):\n",
    "    query(f\"\"\"INSERT INTO vendas VALUES (null, '{id_cliente}', '{tel_cliente}')\"\"\")\n",
    "\n",
    "# Retorna o preço de um combustível em determinada data\n",
    "def busca(comb, data):\n",
    "    df = pd.read_sql_query(f\"\"\" SELECT  \"\"\", conn)\n",
    "    return df"
   ]
  },
  {
   "cell_type": "code",
   "execution_count": 12,
   "metadata": {},
   "outputs": [],
   "source": [
    "\n",
    "\n",
    "class LinosApp:\n",
    "    def __init__(self, root):\n",
    "        self.root = root\n",
    "        self.root.title(\"Linos Barbearia\")\n",
    "\n",
    "        largura = 500\n",
    "        altura = 300\n",
    "        root.geometry(f\"{largura}x{altura}\")\n",
    "        \n",
    "        # Botões\n",
    "        self.btn_cadastrar_cliente = tk.Button(root, text=\"Cadastrar Cliente\", command=self.cadastrar_cliente)\n",
    "        self.btn_consultar_clientes = tk.Button(root, text=\"Consultar Clientes\", command=self.consultar_clientes)\n",
    "        self.btn_nova_venda = tk.Button(root, text=\"Nova Venda\", command=self.nova_venda)\n",
    "        self.btn_consultar_vendas = tk.Button(root, text=\"Consultar Vendas\", command=self.consultar_vendas)\n",
    "        \n",
    "        # Layout\n",
    "        self.btn_cadastrar_cliente.pack(pady=10)\n",
    "        self.btn_consultar_clientes.pack(pady=10)\n",
    "        self.btn_nova_venda.pack(pady=10)\n",
    "        self.btn_consultar_vendas.pack(pady=10)\n",
    "\n",
    "    def cadastrar_cliente(nome_cliente, tel_cliente, data_nasc_cliente):\n",
    "        query(f\"\"\"INSERT INTO clientes VALUES (null, '{nome_cliente}', '{tel_cliente}', '{data_nasc_cliente}')\"\"\")\n",
    "        messagebox.showinfo(\"Cadastrar Cliente\", \"Funcionalidade em desenvolvimento.\")\n",
    "\n",
    "    def consultar_clientes(self):\n",
    "        messagebox.showinfo(\"Consultar Clientes\", \"Funcionalidade em desenvolvimento.\")\n",
    "\n",
    "    def nova_venda(self):\n",
    "        messagebox.showinfo(\"Nova Venda\", \"Funcionalidade em desenvolvimento.\")\n",
    "\n",
    "    def consultar_vendas(self):\n",
    "        messagebox.showinfo(\"Consultar Vendas\", \"Funcionalidade em desenvolvimento.\")\n",
    "\n",
    "if __name__ == \"__main__\":\n",
    "    root = tk.Tk()\n",
    "    app = LinosApp(root)\n",
    "    root.mainloop()\n"
   ]
  }
 ],
 "metadata": {
  "kernelspec": {
   "display_name": "Python 3",
   "language": "python",
   "name": "python3"
  },
  "language_info": {
   "codemirror_mode": {
    "name": "ipython",
    "version": 3
   },
   "file_extension": ".py",
   "mimetype": "text/x-python",
   "name": "python",
   "nbconvert_exporter": "python",
   "pygments_lexer": "ipython3",
   "version": "3.11.4"
  }
 },
 "nbformat": 4,
 "nbformat_minor": 2
}
